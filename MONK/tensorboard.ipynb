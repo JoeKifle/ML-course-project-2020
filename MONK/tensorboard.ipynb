{
 "cells": [
  {
   "cell_type": "markdown",
   "metadata": {
    "id": "TsHV-7cpVkyK"
   },
   "source": [
    "##### Copyright 2019 The TensorFlow Authors."
   ]
  },
  {
   "cell_type": "code",
   "execution_count": 1,
   "metadata": {
    "id": "8p3Tbx8cWEFA"
   },
   "outputs": [],
   "source": [
    "# Load the TensorBoard notebook extension\n",
    "%load_ext tensorboard"
   ]
  },
  {
   "cell_type": "markdown",
   "metadata": {
    "id": "9GtR_cTTkf9G"
   },
   "source": [
    "Import TensorFlow and the TensorBoard HParams plugin:"
   ]
  },
  {
   "cell_type": "code",
   "execution_count": 1,
   "metadata": {
    "id": "mVtYvbbIWRkV"
   },
   "outputs": [],
   "source": [
    "import tensorflow as tf\n",
    "from tensorboard.plugins.hparams import api as hp\n",
    "from tensorflow import keras\n",
    "from datetime import datetime\n",
    "from packaging import version"
   ]
  },
  {
   "cell_type": "markdown",
   "metadata": {
    "id": "XfCa27_8kov6"
   },
   "source": [
    "Download the [FashionMNIST](https://github.com/zalandoresearch/fashion-mnist) dataset and scale it:"
   ]
  },
  {
   "cell_type": "code",
   "execution_count": 2,
   "metadata": {
    "id": "z8b82G7YksOS"
   },
   "outputs": [],
   "source": [
    "fashion_mnist = tf.keras.datasets.fashion_mnist\n",
    "\n",
    "(x_train, y_train),(x_test, y_test) = fashion_mnist.load_data()\n",
    "x_train, x_test = x_train / 255.0, x_test / 255.0"
   ]
  },
  {
   "cell_type": "markdown",
   "metadata": {
    "id": "0tsTxO85WaYq"
   },
   "source": [
    "## 1. Experiment setup and the HParams experiment summary\n",
    "\n",
    "Experiment with three hyperparameters in the model:\n",
    "\n",
    "1. Number of units in the first dense layer\n",
    "2. Dropout rate in the dropout layer\n",
    "3. Optimizer\n",
    "\n",
    "List the values to try, and log an experiment configuration to TensorBoard. This step is optional: you can provide domain information to enable more precise filtering of hyperparameters in the UI, and you can specify which metrics should be displayed."
   ]
  },
  {
   "cell_type": "code",
   "execution_count": 4,
   "metadata": {
    "id": "5Euw0agpWb4V"
   },
   "outputs": [],
   "source": [
    "HP_NUM_UNITS = hp.HParam('num_units', hp.Discrete([16, 32]))\n",
    "HP_DROPOUT = hp.HParam('dropout', hp.RealInterval(0.1, 0.2))\n",
    "HP_OPTIMIZER = hp.HParam('optimizer', hp.Discrete(['adam', 'sgd']))\n",
    "HP_EPOCH = hp.HParam('epoch', hp.IntInterval(10,20))\n",
    "\n",
    "METRIC_ACCURACY = 'accuracy'\n",
    "\n",
    "with tf.summary.create_file_writer('logs/hparam_tuning').as_default():\n",
    "  hp.hparams_config(\n",
    "    hparams=[HP_NUM_UNITS, HP_DROPOUT, HP_OPTIMIZER, HP_EPOCH],\n",
    "    metrics=[hp.Metric(METRIC_ACCURACY, display_name='Accuracy')],\n",
    "  )"
   ]
  },
  {
   "cell_type": "markdown",
   "metadata": {
    "id": "T_T95RrSIVO6"
   },
   "source": [
    "If you choose to skip this step, you can use a string literal wherever you would otherwise use an `HParam` value: e.g., `hparams['dropout']` instead of `hparams[HP_DROPOUT]`."
   ]
  },
  {
   "cell_type": "markdown",
   "metadata": {
    "id": "va9XMh-dW4_f"
   },
   "source": [
    "## 2. Adapt TensorFlow runs to log hyperparameters and metrics\n",
    "\n",
    "The model will be quite simple: two dense layers with a dropout layer between them. The training code will look familiar, although the hyperparameters are no longer hardcoded. Instead, the hyperparameters are provided in an `hparams` dictionary and used throughout the training function:"
   ]
  },
  {
   "cell_type": "code",
   "execution_count": 5,
   "metadata": {
    "id": "hG-zalNfW5Zl"
   },
   "outputs": [],
   "source": [
    "def train_test_model(hparams):\n",
    "  model = tf.keras.models.Sequential([\n",
    "    tf.keras.layers.Flatten(),\n",
    "    tf.keras.layers.Dense(hparams[HP_NUM_UNITS], activation=tf.nn.relu),\n",
    "    tf.keras.layers.Dropout(hparams[HP_DROPOUT]),\n",
    "    tf.keras.layers.Dense(10, activation=tf.nn.softmax),\n",
    "  ])\n",
    "  model.compile(\n",
    "      optimizer=hparams[HP_OPTIMIZER],\n",
    "      loss='sparse_categorical_crossentropy',\n",
    "      metrics=['accuracy'],\n",
    "  )\n",
    "\n",
    "  model.fit(x_train, y_train, epochs=hparams[HP_EPOCH]) # Run with 1 epoch to speed things up for demo purposes\n",
    "  _, accuracy = model.evaluate(x_test, y_test)\n",
    "  return accuracy"
   ]
  },
  {
   "cell_type": "markdown",
   "metadata": {
    "id": "46oJF8seXM7v"
   },
   "source": [
    "For each run, log an hparams summary with the hyperparameters and final accuracy:"
   ]
  },
  {
   "cell_type": "code",
   "execution_count": 6,
   "metadata": {
    "id": "8j-fO6nEXRfW"
   },
   "outputs": [],
   "source": [
    "def run(run_dir, hparams):\n",
    "  with tf.summary.create_file_writer(run_dir).as_default():\n",
    "    hp.hparams(hparams)  # record the values used in this trial\n",
    "    accuracy = train_test_model(hparams)\n",
    "    tf.summary.scalar(METRIC_ACCURACY, accuracy, step=1)"
   ]
  },
  {
   "cell_type": "markdown",
   "metadata": {
    "id": "2mYdW0VKLbFE"
   },
   "source": [
    "When training Keras models, you can use callbacks instead of writing these directly:\n",
    "\n",
    "```python\n",
    "model.fit(\n",
    "    ...,\n",
    "    callbacks=[\n",
    "        tf.keras.callbacks.TensorBoard(logdir),  # log metrics\n",
    "        hp.KerasCallback(logdir, hparams),  # log hparams\n",
    "    ],\n",
    ")\n",
    "```"
   ]
  },
  {
   "cell_type": "markdown",
   "metadata": {
    "id": "u2nOgIKAXdcb"
   },
   "source": [
    "## 3. Start runs and log them all under one parent directory\n",
    "\n",
    "You can now try multiple experiments, training each one with a different set of hyperparameters. \n",
    "\n",
    "For simplicity, use a grid search: try all combinations of the discrete parameters and just the lower and upper bounds of the real-valued parameter. For more complex scenarios, it might be more effective to choose each hyperparameter value randomly (this is called a random search). There are more advanced methods that can be used.\n",
    "\n",
    "Run a few experiments, which will take a few minutes:"
   ]
  },
  {
   "cell_type": "code",
   "execution_count": 7,
   "metadata": {
    "id": "KbqT5n-AXd0h"
   },
   "outputs": [
    {
     "name": "stdout",
     "output_type": "stream",
     "text": [
      "--- Starting trial: run-0\n",
      "{'num_units': 16, 'dropout': 0.1, 'optimizer': 'adam', 'epoch': 1}\n",
      "1875/1875 [==============================] - 1s 750us/step - loss: 0.6799 - accuracy: 0.7613\n",
      "313/313 [==============================] - 0s 680us/step - loss: 0.4994 - accuracy: 0.8247\n",
      "--- Starting trial: run-1\n",
      "{'num_units': 16, 'dropout': 0.1, 'optimizer': 'adam', 'epoch': 2}\n",
      "Epoch 1/2\n",
      "1875/1875 [==============================] - 2s 806us/step - loss: 0.6701 - accuracy: 0.7722\n",
      "Epoch 2/2\n",
      "1875/1875 [==============================] - 1s 736us/step - loss: 0.4911 - accuracy: 0.8277\n",
      "313/313 [==============================] - 0s 660us/step - loss: 0.4423 - accuracy: 0.8474\n",
      "--- Starting trial: run-2\n",
      "{'num_units': 16, 'dropout': 0.1, 'optimizer': 'sgd', 'epoch': 1}\n",
      "1875/1875 [==============================] - 1s 730us/step - loss: 0.9924 - accuracy: 0.6588\n",
      "313/313 [==============================] - 0s 620us/step - loss: 0.6602 - accuracy: 0.7710\n",
      "--- Starting trial: run-3\n",
      "{'num_units': 16, 'dropout': 0.1, 'optimizer': 'sgd', 'epoch': 2}\n",
      "Epoch 1/2\n",
      "1875/1875 [==============================] - 1s 708us/step - loss: 1.0188 - accuracy: 0.6496\n",
      "Epoch 2/2\n",
      "1875/1875 [==============================] - 1s 714us/step - loss: 0.6837 - accuracy: 0.7668\n",
      "313/313 [==============================] - 0s 1ms/step - loss: 0.5760 - accuracy: 0.7997\n",
      "--- Starting trial: run-4\n",
      "{'num_units': 16, 'dropout': 0.2, 'optimizer': 'adam', 'epoch': 1}\n",
      "1875/1875 [==============================] - 1s 786us/step - loss: 0.8322 - accuracy: 0.6854\n",
      "  1/313 [..............................] - ETA: 0s - loss: 0.7176 - accuracy: 0.7500WARNING:tensorflow:Callbacks method `on_test_batch_begin` is slow compared to the batch time (batch time: 0.0000s vs `on_test_batch_begin` time: 0.0010s). Check your callbacks.\n",
      "313/313 [==============================] - 0s 719us/step - loss: 0.5302 - accuracy: 0.8017\n",
      "--- Starting trial: run-5\n",
      "{'num_units': 16, 'dropout': 0.2, 'optimizer': 'adam', 'epoch': 2}\n",
      "Epoch 1/2\n",
      "1875/1875 [==============================] - 2s 834us/step - loss: 0.8252 - accuracy: 0.7070\n",
      "Epoch 2/2\n",
      "1875/1875 [==============================] - 2s 844us/step - loss: 0.6102 - accuracy: 0.7790\n",
      "  1/313 [..............................] - ETA: 0s - loss: 0.6817 - accuracy: 0.7188WARNING:tensorflow:Callbacks method `on_test_batch_begin` is slow compared to the batch time (batch time: 0.0000s vs `on_test_batch_begin` time: 0.0010s). Check your callbacks.\n",
      "313/313 [==============================] - 0s 789us/step - loss: 0.4842 - accuracy: 0.8251\n",
      "--- Starting trial: run-6\n",
      "{'num_units': 16, 'dropout': 0.2, 'optimizer': 'sgd', 'epoch': 1}\n",
      "1875/1875 [==============================] - 2s 814us/step - loss: 1.1672 - accuracy: 0.5941\n",
      "313/313 [==============================] - 0s 741us/step - loss: 0.7128 - accuracy: 0.7667\n",
      "--- Starting trial: run-7\n",
      "{'num_units': 16, 'dropout': 0.2, 'optimizer': 'sgd', 'epoch': 2}\n",
      "Epoch 1/2\n",
      "1875/1875 [==============================] - 1s 766us/step - loss: 1.0696 - accuracy: 0.6210\n",
      "Epoch 2/2\n",
      "1875/1875 [==============================] - 1s 747us/step - loss: 0.7657 - accuracy: 0.7293\n",
      "313/313 [==============================] - 0s 751us/step - loss: 0.6031 - accuracy: 0.7993\n",
      "--- Starting trial: run-8\n",
      "{'num_units': 32, 'dropout': 0.1, 'optimizer': 'adam', 'epoch': 1}\n",
      "1875/1875 [==============================] - 2s 1ms/step - loss: 0.6194 - accuracy: 0.7883\n",
      "313/313 [==============================] - 0s 981us/step - loss: 0.4658 - accuracy: 0.8301\n",
      "--- Starting trial: run-9\n",
      "{'num_units': 32, 'dropout': 0.1, 'optimizer': 'adam', 'epoch': 2}\n",
      "Epoch 1/2\n",
      "1875/1875 [==============================] - 2s 1ms/step - loss: 0.6083 - accuracy: 0.7884\n",
      "Epoch 2/2\n",
      "1875/1875 [==============================] - 2s 1ms/step - loss: 0.4471 - accuracy: 0.8413\n",
      "313/313 [==============================] - 0s 1ms/step - loss: 0.4332 - accuracy: 0.8413\n",
      "--- Starting trial: run-10\n",
      "{'num_units': 32, 'dropout': 0.1, 'optimizer': 'sgd', 'epoch': 1}\n",
      "1875/1875 [==============================] - 2s 826us/step - loss: 0.8907 - accuracy: 0.6953\n",
      "313/313 [==============================] - 0s 783us/step - loss: 0.6235 - accuracy: 0.7830\n",
      "--- Starting trial: run-11\n",
      "{'num_units': 32, 'dropout': 0.1, 'optimizer': 'sgd', 'epoch': 2}\n",
      "Epoch 1/2\n",
      "1875/1875 [==============================] - 2s 812us/step - loss: 0.9030 - accuracy: 0.6913\n",
      "Epoch 2/2\n",
      "1875/1875 [==============================] - 2s 916us/step - loss: 0.6098 - accuracy: 0.7937\n",
      "313/313 [==============================] - 0s 853us/step - loss: 0.5448 - accuracy: 0.8146\n",
      "--- Starting trial: run-12\n",
      "{'num_units': 32, 'dropout': 0.2, 'optimizer': 'adam', 'epoch': 1}\n",
      "1875/1875 [==============================] - 2s 1ms/step - loss: 0.6703 - accuracy: 0.7667\n",
      "313/313 [==============================] - 0s 776us/step - loss: 0.4805 - accuracy: 0.8303\n",
      "--- Starting trial: run-13\n",
      "{'num_units': 32, 'dropout': 0.2, 'optimizer': 'adam', 'epoch': 2}\n",
      "Epoch 1/2\n",
      "1875/1875 [==============================] - 2s 847us/step - loss: 0.6558 - accuracy: 0.7708\n",
      "Epoch 2/2\n",
      "1875/1875 [==============================] - 1s 762us/step - loss: 0.4766 - accuracy: 0.8321\n",
      "313/313 [==============================] - 0s 720us/step - loss: 0.4309 - accuracy: 0.8424\n",
      "--- Starting trial: run-14\n",
      "{'num_units': 32, 'dropout': 0.2, 'optimizer': 'sgd', 'epoch': 1}\n",
      "1875/1875 [==============================] - 2s 957us/step - loss: 0.9604 - accuracy: 0.6710\n",
      "313/313 [==============================] - 0s 760us/step - loss: 0.6438 - accuracy: 0.7800\n",
      "--- Starting trial: run-15\n",
      "{'num_units': 32, 'dropout': 0.2, 'optimizer': 'sgd', 'epoch': 2}\n",
      "Epoch 1/2\n",
      "1875/1875 [==============================] - 2s 966us/step - loss: 0.9458 - accuracy: 0.6781\n",
      "Epoch 2/2\n",
      "1875/1875 [==============================] - 2s 978us/step - loss: 0.6394 - accuracy: 0.7803\n",
      "313/313 [==============================] - 0s 767us/step - loss: 0.5545 - accuracy: 0.8032\n"
     ]
    }
   ],
   "source": [
    "session_num = 0\n",
    "\n",
    "for num_units in HP_NUM_UNITS.domain.values:\n",
    "  for dropout_rate in (HP_DROPOUT.domain.min_value, HP_DROPOUT.domain.max_value):\n",
    "    for optimizer in HP_OPTIMIZER.domain.values:\n",
    "        for epoch in range(HP_EPOCH.domain.min_value,HP_EPOCH.domain.max_value):\n",
    "          hparams = {\n",
    "              HP_NUM_UNITS: num_units,\n",
    "              HP_DROPOUT: dropout_rate,\n",
    "              HP_OPTIMIZER: optimizer,\n",
    "              HP_EPOCH:epoch,\n",
    "          }\n",
    "          run_name = \"run-%d\" % session_num\n",
    "          print('--- Starting trial: %s' % run_name)\n",
    "          print({h.name: hparams[h] for h in hparams})\n",
    "          run('logs/hparam_tuning/' + run_name, hparams)\n",
    "          session_num += 1\n"
   ]
  },
  {
   "cell_type": "markdown",
   "metadata": {},
   "source": [
    "from multiprocessing import Process\n",
    "\n",
    "\n",
    "session_num = 0\n",
    "\n",
    "for num_units in HP_NUM_UNITS.domain.values:\n",
    "  for dropout_rate in (HP_DROPOUT.domain.min_value, HP_DROPOUT.domain.max_value):\n",
    "    for optimizer in HP_OPTIMIZER.domain.values:\n",
    "        for epoch in range(HP_EPOCH.domain.min_value,HP_EPOCH.domain.max_value):\n",
    "          hparams = {\n",
    "              HP_NUM_UNITS: num_units,\n",
    "              HP_DROPOUT: dropout_rate,\n",
    "              HP_OPTIMIZER: optimizer,\n",
    "              HP_EPOCH:epoch,\n",
    "          }\n",
    "          run_name = \"run-%d\" % session_num\n",
    "          print('--- Starting trial: %s' % run_name)\n",
    "          print({h.name: hparams[h] for h in hparams})\n",
    "          run('logs/hparam_tuning/' + run_name, hparams)\n",
    "          session_num += 1\n",
    "          p = Process(target=run, args=('logs/hparam_tuning/' + run_name, hparams))\n",
    "          p.start()\n",
    "          p.join()"
   ]
  },
  {
   "cell_type": "markdown",
   "metadata": {
    "id": "qSyjWQ3mPKT9"
   },
   "source": [
    "## 4. Visualize the results in TensorBoard's HParams plugin"
   ]
  },
  {
   "cell_type": "markdown",
   "metadata": {
    "id": "5VBvplwyP8Vy"
   },
   "source": [
    "The HParams dashboard can now be opened. Start TensorBoard and click on \"HParams\" at the top."
   ]
  },
  {
   "cell_type": "code",
   "execution_count": 8,
   "metadata": {
    "id": "Xf4KM-U2bbP_"
   },
   "outputs": [
    {
     "data": {
      "text/plain": [
       "Reusing TensorBoard on port 6006 (pid 12088), started 4:06:26 ago. (Use '!kill 12088' to kill it.)"
      ]
     },
     "metadata": {},
     "output_type": "display_data"
    },
    {
     "data": {
      "text/html": [
       "\n",
       "      <iframe id=\"tensorboard-frame-b6416e5484de525b\" width=\"100%\" height=\"800\" frameborder=\"0\">\n",
       "      </iframe>\n",
       "      <script>\n",
       "        (function() {\n",
       "          const frame = document.getElementById(\"tensorboard-frame-b6416e5484de525b\");\n",
       "          const url = new URL(\"/\", window.location);\n",
       "          const port = 6006;\n",
       "          if (port) {\n",
       "            url.port = port;\n",
       "          }\n",
       "          frame.src = url;\n",
       "        })();\n",
       "      </script>\n",
       "    "
      ],
      "text/plain": [
       "<IPython.core.display.HTML object>"
      ]
     },
     "metadata": {},
     "output_type": "display_data"
    }
   ],
   "source": [
    "%tensorboard --logdir logs\n"
   ]
  },
  {
   "cell_type": "markdown",
   "metadata": {
    "id": "4RPGbR9EWd4o"
   },
   "source": [
    "The left pane of the dashboard provides filtering capabilities that are active across all the views in the HParams dashboard:\n",
    "\n",
    "- Filter which hyperparameters/metrics are shown in the dashboard\n",
    "- Filter which hyperparameter/metrics values are shown in the dashboard\n",
    "- Filter on run status (running, success, ...)\n",
    "- Sort by hyperparameter/metric in the table view\n",
    "- Number of session groups to show (useful for performance when there are many experiments)\n"
   ]
  },
  {
   "cell_type": "markdown",
   "metadata": {
    "id": "Z3Q5v28XaCt8"
   },
   "source": [
    "The HParams dashboard has three different views, with various useful information:\n",
    "\n",
    "* The **Table View** lists the runs, their hyperparameters, and their metrics.\n",
    "* The **Parallel Coordinates View** shows each run as a line going through an axis for each hyperparemeter and metric. Click and drag the mouse on any axis to mark a region which will highlight only the runs that pass through it. This can be useful for identifying which groups of hyperparameters are most important. The axes themselves can be re-ordered by dragging them.\n",
    "* The **Scatter Plot View** shows plots comparing each hyperparameter/metric with each metric. This can help identify correlations. Click and drag to select a region in a specific plot and highlight those sessions across the other plots. \n",
    "\n",
    "A table row, a parallel coordinates line, and a scatter plot market can be clicked to see a plot of the metrics as a function of training steps for that session (although in this tutorial only one step is used for each run)."
   ]
  },
  {
   "cell_type": "markdown",
   "metadata": {
    "id": "fh3p0DtcdOK1"
   },
   "source": [
    "To further explore the capabilities of the HParams dashboard, download a set of pregenerated logs with more experiments:"
   ]
  },
  {
   "cell_type": "markdown",
   "metadata": {
    "id": "__8xQhjqgr3D"
   },
   "source": [
    "View these logs in TensorBoard:"
   ]
  }
 ],
 "metadata": {
  "colab": {
   "collapsed_sections": [],
   "name": "hyperparameter_tuning_with_hparams.ipynb",
   "toc_visible": true
  },
  "kernelspec": {
   "display_name": "Python 3",
   "language": "python",
   "name": "python3"
  },
  "language_info": {
   "codemirror_mode": {
    "name": "ipython",
    "version": 3
   },
   "file_extension": ".py",
   "mimetype": "text/x-python",
   "name": "python",
   "nbconvert_exporter": "python",
   "pygments_lexer": "ipython3",
   "version": "3.7.9"
  }
 },
 "nbformat": 4,
 "nbformat_minor": 4
}
