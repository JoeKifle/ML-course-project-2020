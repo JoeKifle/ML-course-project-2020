{
 "cells": [
  {
   "cell_type": "markdown",
   "metadata": {
    "id": "TsHV-7cpVkyK"
   },
   "source": [
    "##### Copyright 2019 The TensorFlow Authors."
   ]
  },
  {
   "cell_type": "code",
   "execution_count": 49,
   "metadata": {
    "id": "8p3Tbx8cWEFA"
   },
   "outputs": [
    {
     "name": "stdout",
     "output_type": "stream",
     "text": [
      "The tensorboard extension is already loaded. To reload it, use:\n",
      "  %reload_ext tensorboard\n"
     ]
    }
   ],
   "source": [
    "# Load the TensorBoard notebook extension\n",
    "%load_ext tensorboard"
   ]
  },
  {
   "cell_type": "markdown",
   "metadata": {
    "id": "9GtR_cTTkf9G"
   },
   "source": [
    "Import TensorFlow and the TensorBoard HParams plugin:"
   ]
  },
  {
   "cell_type": "code",
   "execution_count": 50,
   "metadata": {
    "id": "mVtYvbbIWRkV"
   },
   "outputs": [],
   "source": [
    "import tensorflow as tf\n",
    "from tensorboard.plugins.hparams import api as hp"
   ]
  },
  {
   "cell_type": "markdown",
   "metadata": {
    "id": "XfCa27_8kov6"
   },
   "source": [
    "Download the [FashionMNIST](https://github.com/zalandoresearch/fashion-mnist) dataset and scale it:"
   ]
  },
  {
   "cell_type": "code",
   "execution_count": 51,
   "metadata": {
    "id": "z8b82G7YksOS"
   },
   "outputs": [],
   "source": [
    "fashion_mnist = tf.keras.datasets.fashion_mnist\n",
    "\n",
    "(x_train, y_train),(x_test, y_test) = fashion_mnist.load_data()\n",
    "x_train, x_test = x_train / 255.0, x_test / 255.0"
   ]
  },
  {
   "cell_type": "markdown",
   "metadata": {
    "id": "0tsTxO85WaYq"
   },
   "source": [
    "## 1. Experiment setup and the HParams experiment summary\n",
    "\n",
    "Experiment with three hyperparameters in the model:\n",
    "\n",
    "1. Number of units in the first dense layer\n",
    "2. Dropout rate in the dropout layer\n",
    "3. Optimizer\n",
    "\n",
    "List the values to try, and log an experiment configuration to TensorBoard. This step is optional: you can provide domain information to enable more precise filtering of hyperparameters in the UI, and you can specify which metrics should be displayed."
   ]
  },
  {
   "cell_type": "code",
   "execution_count": 52,
   "metadata": {
    "id": "5Euw0agpWb4V"
   },
   "outputs": [],
   "source": [
    "HP_NUM_UNITS = hp.HParam('num_units', hp.Discrete([16, 32]))\n",
    "HP_DROPOUT = hp.HParam('dropout', hp.RealInterval(0.1, 0.2))\n",
    "HP_OPTIMIZER = hp.HParam('optimizer', hp.Discrete(['adam', 'sgd']))\n",
    "HP_EPOCH = hp.HParam('epoch', hp.IntInterval(10,20))\n",
    "\n",
    "METRIC_ACCURACY = 'accuracy'\n",
    "logdir = \"logs/scalars/\" + datetime.now().strftime(\"%Y%m%d-%H%M%S\")\n",
    "file_writer = tf.summary.create_file_writer(logdir + \"/metrics\")\n",
    "\n",
    "with tf.summary.create_file_writer('logs/hparam_tuning').as_default():\n",
    "  hp.hparams_config(\n",
    "    hparams=[HP_NUM_UNITS, HP_DROPOUT, HP_OPTIMIZER, HP_EPOCH],\n",
    "    metrics=[hp.Metric(METRIC_ACCURACY, display_name='Accuracy')],\n",
    "  )"
   ]
  },
  {
   "cell_type": "markdown",
   "metadata": {
    "id": "T_T95RrSIVO6"
   },
   "source": [
    "If you choose to skip this step, you can use a string literal wherever you would otherwise use an `HParam` value: e.g., `hparams['dropout']` instead of `hparams[HP_DROPOUT]`."
   ]
  },
  {
   "cell_type": "markdown",
   "metadata": {
    "id": "va9XMh-dW4_f"
   },
   "source": [
    "## 2. Adapt TensorFlow runs to log hyperparameters and metrics\n",
    "\n",
    "The model will be quite simple: two dense layers with a dropout layer between them. The training code will look familiar, although the hyperparameters are no longer hardcoded. Instead, the hyperparameters are provided in an `hparams` dictionary and used throughout the training function:"
   ]
  },
  {
   "cell_type": "code",
   "execution_count": 53,
   "metadata": {
    "id": "hG-zalNfW5Zl"
   },
   "outputs": [],
   "source": [
    "def train_test_model(hparams):\n",
    "  model = tf.keras.models.Sequential([\n",
    "    tf.keras.layers.Flatten(),\n",
    "    tf.keras.layers.Dense(hparams[HP_NUM_UNITS], activation=tf.nn.relu),\n",
    "    tf.keras.layers.Dropout(hparams[HP_DROPOUT]),\n",
    "    tf.keras.layers.Dense(10, activation=tf.nn.softmax),\n",
    "  ])\n",
    "  model.compile(\n",
    "      optimizer=hparams[HP_OPTIMIZER],\n",
    "      loss='sparse_categorical_crossentropy',\n",
    "      metrics=['accuracy'],\n",
    "  )\n",
    "\n",
    "  model.fit(x_train, y_train, epochs=hparams[HP_EPOCH]) # Run with 1 epoch to speed things up for demo purposes\n",
    "  _, accuracy = model.evaluate(x_test, y_test)\n",
    "  return accuracy"
   ]
  },
  {
   "cell_type": "markdown",
   "metadata": {
    "id": "46oJF8seXM7v"
   },
   "source": [
    "For each run, log an hparams summary with the hyperparameters and final accuracy:"
   ]
  },
  {
   "cell_type": "code",
   "execution_count": 54,
   "metadata": {
    "id": "8j-fO6nEXRfW"
   },
   "outputs": [],
   "source": [
    "def run(run_dir, hparams):\n",
    "  with tf.summary.create_file_writer(run_dir).as_default():\n",
    "    hp.hparams(hparams)  # record the values used in this trial\n",
    "    accuracy = train_test_model(hparams)\n",
    "    tf.summary.scalar(METRIC_ACCURACY, accuracy, step=1)"
   ]
  },
  {
   "cell_type": "markdown",
   "metadata": {
    "id": "2mYdW0VKLbFE"
   },
   "source": [
    "When training Keras models, you can use callbacks instead of writing these directly:\n",
    "\n",
    "```python\n",
    "model.fit(\n",
    "    ...,\n",
    "    callbacks=[\n",
    "        tf.keras.callbacks.TensorBoard(logdir),  # log metrics\n",
    "        hp.KerasCallback(logdir, hparams),  # log hparams\n",
    "    ],\n",
    ")\n",
    "```"
   ]
  },
  {
   "cell_type": "markdown",
   "metadata": {
    "id": "u2nOgIKAXdcb"
   },
   "source": [
    "## 3. Start runs and log them all under one parent directory\n",
    "\n",
    "You can now try multiple experiments, training each one with a different set of hyperparameters. \n",
    "\n",
    "For simplicity, use a grid search: try all combinations of the discrete parameters and just the lower and upper bounds of the real-valued parameter. For more complex scenarios, it might be more effective to choose each hyperparameter value randomly (this is called a random search). There are more advanced methods that can be used.\n",
    "\n",
    "Run a few experiments, which will take a few minutes:"
   ]
  },
  {
   "cell_type": "code",
   "execution_count": null,
   "metadata": {
    "id": "KbqT5n-AXd0h"
   },
   "outputs": [
    {
     "name": "stdout",
     "output_type": "stream",
     "text": [
      "--- Starting trial: run-0\n",
      "{'num_units': 16, 'dropout': 0.1, 'optimizer': 'adam', 'epoch': 10}\n",
      "Epoch 1/10\n",
      "1875/1875 [==============================] - 3s 2ms/step - loss: 0.6858 - accuracy: 0.7640\n",
      "Epoch 2/10\n",
      "1875/1875 [==============================] - 3s 2ms/step - loss: 0.4996 - accuracy: 0.8232\n",
      "Epoch 3/10\n",
      "1875/1875 [==============================] - 3s 2ms/step - loss: 0.4624 - accuracy: 0.8352\n",
      "Epoch 4/10\n",
      "1875/1875 [==============================] - 3s 2ms/step - loss: 0.4415 - accuracy: 0.8422\n",
      "Epoch 5/10\n",
      "1875/1875 [==============================] - 3s 2ms/step - loss: 0.4298 - accuracy: 0.8454\n",
      "Epoch 6/10\n",
      "1875/1875 [==============================] - 3s 2ms/step - loss: 0.4197 - accuracy: 0.8467\n",
      "Epoch 7/10\n",
      "1875/1875 [==============================] - 3s 2ms/step - loss: 0.4135 - accuracy: 0.8490\n",
      "Epoch 8/10\n",
      "1875/1875 [==============================] - 3s 2ms/step - loss: 0.4064 - accuracy: 0.8515\n",
      "Epoch 9/10\n",
      "1875/1875 [==============================] - 3s 2ms/step - loss: 0.3997 - accuracy: 0.8551\n",
      "Epoch 10/10\n",
      "1875/1875 [==============================] - 3s 2ms/step - loss: 0.3953 - accuracy: 0.8548\n",
      "313/313 [==============================] - ETA: 0s - loss: 0.4007 - accuracy: 0.85 - 0s 1ms/step - loss: 0.4022 - accuracy: 0.8573\n",
      "--- Starting trial: run-1\n",
      "{'num_units': 16, 'dropout': 0.1, 'optimizer': 'adam', 'epoch': 20}\n",
      "Epoch 1/20\n",
      "1875/1875 [==============================] - 3s 2ms/step - loss: 0.7008 - accuracy: 0.7586\n",
      "Epoch 2/20\n",
      "1875/1875 [==============================] - 3s 2ms/step - loss: 0.5016 - accuracy: 0.8217\n",
      "Epoch 3/20\n",
      "1875/1875 [==============================] - 3s 2ms/step - loss: 0.4678 - accuracy: 0.8316\n",
      "Epoch 4/20\n",
      "1875/1875 [==============================] - 3s 2ms/step - loss: 0.4461 - accuracy: 0.8402\n",
      "Epoch 5/20\n",
      "1875/1875 [==============================] - 3s 2ms/step - loss: 0.4352 - accuracy: 0.8438\n",
      "Epoch 6/20\n",
      "1875/1875 [==============================] - 3s 2ms/step - loss: 0.4249 - accuracy: 0.8470: \n",
      "Epoch 7/20\n",
      "1875/1875 [==============================] - 3s 2ms/step - loss: 0.4201 - accuracy: 0.8476\n",
      "Epoch 8/20\n",
      "1875/1875 [==============================] - 3s 2ms/step - loss: 0.4146 - accuracy: 0.8498\n",
      "Epoch 9/20\n",
      "1875/1875 [==============================] - 3s 2ms/step - loss: 0.4087 - accuracy: 0.8533\n",
      "Epoch 10/20\n",
      "1875/1875 [==============================] - 3s 2ms/step - loss: 0.4041 - accuracy: 0.8524\n",
      "Epoch 11/20\n",
      "1875/1875 [==============================] - 3s 2ms/step - loss: 0.3993 - accuracy: 0.8537\n",
      "Epoch 12/20\n",
      "1875/1875 [==============================] - 3s 2ms/step - loss: 0.3959 - accuracy: 0.8557\n",
      "Epoch 13/20\n",
      "1875/1875 [==============================] - 3s 2ms/step - loss: 0.3931 - accuracy: 0.8563: 0s - loss: 0.3918 - ac\n",
      "Epoch 14/20\n",
      "1875/1875 [==============================] - 3s 2ms/step - loss: 0.3907 - accuracy: 0.8574\n",
      "Epoch 15/20\n",
      "1875/1875 [==============================] - 3s 2ms/step - loss: 0.3880 - accuracy: 0.8567\n",
      "Epoch 16/20\n",
      "1875/1875 [==============================] - 3s 2ms/step - loss: 0.3838 - accuracy: 0.8582\n",
      "Epoch 17/20\n",
      "1875/1875 [==============================] - 3s 2ms/step - loss: 0.3829 - accuracy: 0.8583\n",
      "Epoch 18/20\n",
      "1875/1875 [==============================] - 3s 2ms/step - loss: 0.3835 - accuracy: 0.8587\n",
      "Epoch 19/20\n",
      "1875/1875 [==============================] - 3s 2ms/step - loss: 0.3814 - accuracy: 0.8609\n",
      "Epoch 20/20\n",
      "1875/1875 [==============================] - 3s 2ms/step - loss: 0.3789 - accuracy: 0.8613\n",
      "313/313 [==============================] - 0s 1ms/step - loss: 0.3976 - accuracy: 0.8584\n",
      "--- Starting trial: run-2\n",
      "{'num_units': 16, 'dropout': 0.1, 'optimizer': 'sgd', 'epoch': 10}\n",
      "Epoch 1/10\n",
      "1875/1875 [==============================] - 3s 1ms/step - loss: 1.0266 - accuracy: 0.6532\n",
      "Epoch 2/10\n",
      "1875/1875 [==============================] - 3s 1ms/step - loss: 0.6634 - accuracy: 0.7735\n",
      "Epoch 3/10\n",
      "1875/1875 [==============================] - 3s 1ms/step - loss: 0.5896 - accuracy: 0.7970\n",
      "Epoch 4/10\n",
      "1875/1875 [==============================] - 3s 2ms/step - loss: 0.5519 - accuracy: 0.8090\n",
      "Epoch 5/10\n",
      "1875/1875 [==============================] - 3s 2ms/step - loss: 0.5285 - accuracy: 0.8151\n",
      "Epoch 6/10\n",
      "1875/1875 [==============================] - 3s 2ms/step - loss: 0.5110 - accuracy: 0.8233\n",
      "Epoch 7/10\n",
      "1875/1875 [==============================] - 3s 2ms/step - loss: 0.5011 - accuracy: 0.8237\n",
      "Epoch 8/10\n",
      "1875/1875 [==============================] - 3s 2ms/step - loss: 0.4918 - accuracy: 0.8261\n",
      "Epoch 9/10\n",
      "1875/1875 [==============================] - 3s 2ms/step - loss: 0.4837 - accuracy: 0.8306\n",
      "Epoch 10/10\n",
      "1875/1875 [==============================] - 4s 2ms/step - loss: 0.4741 - accuracy: 0.8331\n",
      "313/313 [==============================] - 0s 2ms/step - loss: 0.4528 - accuracy: 0.8363\n",
      "--- Starting trial: run-3\n",
      "{'num_units': 16, 'dropout': 0.1, 'optimizer': 'sgd', 'epoch': 20}\n",
      "Epoch 1/20\n",
      "1875/1875 [==============================] - 3s 2ms/step - loss: 0.9689 - accuracy: 0.6648\n",
      "Epoch 2/20\n",
      "1875/1875 [==============================] - 3s 2ms/step - loss: 0.6676 - accuracy: 0.7709: 0s\n",
      "Epoch 3/20\n",
      "1875/1875 [==============================] - 3s 2ms/step - loss: 0.5960 - accuracy: 0.7938: 1s - loss: 0.6044 -  - ETA: 0s - l\n",
      "Epoch 4/20\n",
      "1875/1875 [==============================] - 4s 2ms/step - loss: 0.5594 - accuracy: 0.8061\n",
      "Epoch 5/20\n",
      "1875/1875 [==============================] - 4s 2ms/step - loss: 0.5360 - accuracy: 0.8126\n",
      "Epoch 6/20\n",
      "1875/1875 [==============================] - 3s 2ms/step - loss: 0.5167 - accuracy: 0.8192\n",
      "Epoch 7/20\n",
      "1875/1875 [==============================] - 3s 2ms/step - loss: 0.5051 - accuracy: 0.8205\n",
      "Epoch 8/20\n",
      "1875/1875 [==============================] - 3s 2ms/step - loss: 0.4947 - accuracy: 0.8249\n",
      "Epoch 9/20\n",
      "1875/1875 [==============================] - 3s 2ms/step - loss: 0.4873 - accuracy: 0.8259\n",
      "Epoch 10/20\n",
      "1875/1875 [==============================] - 3s 1ms/step - loss: 0.4799 - accuracy: 0.8290\n",
      "Epoch 11/20\n",
      "1875/1875 [==============================] - 3s 2ms/step - loss: 0.4765 - accuracy: 0.8307\n",
      "Epoch 12/20\n",
      "1875/1875 [==============================] - ETA: 0s - loss: 0.4695 - accuracy: 0.83 - 3s 1ms/step - loss: 0.4696 - accuracy: 0.8337\n",
      "Epoch 13/20\n",
      "1875/1875 [==============================] - 3s 2ms/step - loss: 0.4636 - accuracy: 0.8344\n",
      "Epoch 14/20\n",
      "1875/1875 [==============================] - 3s 2ms/step - loss: 0.4599 - accuracy: 0.8344\n",
      "Epoch 15/20\n",
      "1875/1875 [==============================] - 3s 2ms/step - loss: 0.4530 - accuracy: 0.8388\n",
      "Epoch 16/20\n",
      "1875/1875 [==============================] - 3s 1ms/step - loss: 0.4513 - accuracy: 0.8374\n",
      "Epoch 17/20\n",
      "1875/1875 [==============================] - 3s 2ms/step - loss: 0.4496 - accuracy: 0.8383\n",
      "Epoch 18/20\n",
      "1875/1875 [==============================] - 3s 2ms/step - loss: 0.4447 - accuracy: 0.8423\n",
      "Epoch 19/20\n",
      "1875/1875 [==============================] - 3s 2ms/step - loss: 0.4418 - accuracy: 0.8413\n",
      "Epoch 20/20\n",
      "1875/1875 [==============================] - 3s 2ms/step - loss: 0.4387 - accuracy: 0.8433\n",
      "313/313 [==============================] - 0s 1ms/step - loss: 0.4236 - accuracy: 0.8449\n",
      "--- Starting trial: run-4\n",
      "{'num_units': 16, 'dropout': 0.2, 'optimizer': 'adam', 'epoch': 10}\n",
      "Epoch 1/10\n",
      "1875/1875 [==============================] - 3s 2ms/step - loss: 0.7855 - accuracy: 0.7246\n",
      "Epoch 2/10\n",
      "1875/1875 [==============================] - 3s 2ms/step - loss: 0.5643 - accuracy: 0.7984\n",
      "Epoch 3/10\n",
      "1875/1875 [==============================] - 3s 2ms/step - loss: 0.5290 - accuracy: 0.8098\n",
      "Epoch 4/10\n",
      "1875/1875 [==============================] - 4s 2ms/step - loss: 0.5054 - accuracy: 0.8172\n",
      "Epoch 5/10\n",
      "1875/1875 [==============================] - 3s 2ms/step - loss: 0.4887 - accuracy: 0.8215\n",
      "Epoch 6/10\n",
      "1875/1875 [==============================] - 3s 2ms/step - loss: 0.4834 - accuracy: 0.8247\n",
      "Epoch 7/10\n",
      "1875/1875 [==============================] - 3s 2ms/step - loss: 0.4723 - accuracy: 0.8282\n",
      "Epoch 8/10\n",
      "1875/1875 [==============================] - 3s 2ms/step - loss: 0.4690 - accuracy: 0.8285\n",
      "Epoch 9/10\n",
      "1875/1875 [==============================] - 4s 2ms/step - loss: 0.4599 - accuracy: 0.8304\n",
      "Epoch 10/10\n",
      "1875/1875 [==============================] - 3s 2ms/step - loss: 0.4544 - accuracy: 0.8318: 0s - loss: 0.4534 - ac\n",
      "313/313 [==============================] - 0s 2ms/step - loss: 0.4327 - accuracy: 0.8400: 0s - loss: 0.4312 - accuracy: 0.\n",
      "--- Starting trial: run-5\n",
      "{'num_units': 16, 'dropout': 0.2, 'optimizer': 'adam', 'epoch': 20}\n",
      "Epoch 1/20\n",
      "1875/1875 [==============================] - 3s 2ms/step - loss: 0.7455 - accuracy: 0.7336\n",
      "Epoch 2/20\n",
      "1875/1875 [==============================] - 4s 2ms/step - loss: 0.5574 - accuracy: 0.7991\n",
      "Epoch 3/20\n",
      "1875/1875 [==============================] - 4s 2ms/step - loss: 0.5177 - accuracy: 0.8157\n",
      "Epoch 4/20\n",
      "1875/1875 [==============================] - 3s 2ms/step - loss: 0.4965 - accuracy: 0.8210\n",
      "Epoch 5/20\n",
      "1875/1875 [==============================] - 3s 2ms/step - loss: 0.4838 - accuracy: 0.8226: 0s - loss: 0.4850 - accuracy: \n",
      "Epoch 6/20\n",
      "1875/1875 [==============================] - 3s 2ms/step - loss: 0.4758 - accuracy: 0.8252\n",
      "Epoch 7/20\n",
      "1875/1875 [==============================] - 3s 2ms/step - loss: 0.4670 - accuracy: 0.8298\n",
      "Epoch 8/20\n",
      "1875/1875 [==============================] - 4s 2ms/step - loss: 0.4669 - accuracy: 0.8288\n",
      "Epoch 9/20\n",
      "1875/1875 [==============================] - 3s 2ms/step - loss: 0.4560 - accuracy: 0.8319\n",
      "Epoch 10/20\n",
      "1875/1875 [==============================] - 3s 2ms/step - loss: 0.4533 - accuracy: 0.8325\n",
      "Epoch 11/20\n",
      "1875/1875 [==============================] - 3s 2ms/step - loss: 0.4503 - accuracy: 0.8333\n",
      "Epoch 12/20\n",
      "1875/1875 [==============================] - 3s 2ms/step - loss: 0.4473 - accuracy: 0.8339\n",
      "Epoch 13/20\n",
      "1875/1875 [==============================] - 3s 2ms/step - loss: 0.4413 - accuracy: 0.8361\n",
      "Epoch 14/20\n",
      "1875/1875 [==============================] - 3s 2ms/step - loss: 0.4367 - accuracy: 0.8383\n",
      "Epoch 15/20\n",
      "1875/1875 [==============================] - 4s 2ms/step - loss: 0.4390 - accuracy: 0.8372\n",
      "Epoch 16/20\n",
      "1875/1875 [==============================] - 4s 2ms/step - loss: 0.4350 - accuracy: 0.8386: 0s - loss: 0.4325 - \n",
      "Epoch 17/20\n",
      "1875/1875 [==============================] - 4s 2ms/step - loss: 0.4309 - accuracy: 0.8396\n",
      "Epoch 18/20\n",
      "1875/1875 [==============================] - 4s 2ms/step - loss: 0.4320 - accuracy: 0.8369\n",
      "Epoch 19/20\n",
      "1875/1875 [==============================] - 3s 2ms/step - loss: 0.4282 - accuracy: 0.8406\n",
      "Epoch 20/20\n",
      "1875/1875 [==============================] - 3s 2ms/step - loss: 0.4265 - accuracy: 0.8412\n",
      "313/313 [==============================] - 0s 1ms/step - loss: 0.4233 - accuracy: 0.8487\n",
      "--- Starting trial: run-6\n",
      "{'num_units': 16, 'dropout': 0.2, 'optimizer': 'sgd', 'epoch': 10}\n",
      "Epoch 1/10\n",
      "1875/1875 [==============================] - 3s 2ms/step - loss: 1.1168 - accuracy: 0.6049\n",
      "Epoch 2/10\n",
      "1875/1875 [==============================] - 3s 1ms/step - loss: 0.7381 - accuracy: 0.7427\n",
      "Epoch 3/10\n",
      "1875/1875 [==============================] - 2s 1ms/step - loss: 0.6604 - accuracy: 0.7693\n",
      "Epoch 4/10\n",
      "1875/1875 [==============================] - 3s 1ms/step - loss: 0.6162 - accuracy: 0.7863: 0s - loss:\n",
      "Epoch 5/10\n",
      "1875/1875 [==============================] - 2s 1ms/step - loss: 0.5918 - accuracy: 0.7935\n",
      "Epoch 6/10\n",
      "1875/1875 [==============================] - 3s 2ms/step - loss: 0.5724 - accuracy: 0.7996: 0s - los\n",
      "Epoch 7/10\n",
      "1875/1875 [==============================] - 3s 2ms/step - loss: 0.5605 - accuracy: 0.8036\n",
      "Epoch 8/10\n",
      "1875/1875 [==============================] - 3s 2ms/step - loss: 0.5473 - accuracy: 0.8073\n",
      "Epoch 9/10\n",
      "1875/1875 [==============================] - 3s 1ms/step - loss: 0.5396 - accuracy: 0.8087\n",
      "Epoch 10/10\n",
      "1875/1875 [==============================] - 3s 2ms/step - loss: 0.5339 - accuracy: 0.8110\n",
      "313/313 [==============================] - 0s 1ms/step - loss: 0.4607 - accuracy: 0.8381\n",
      "--- Starting trial: run-7\n",
      "{'num_units': 16, 'dropout': 0.2, 'optimizer': 'sgd', 'epoch': 20}\n",
      "Epoch 1/20\n",
      "1875/1875 [==============================] - 3s 1ms/step - loss: 1.0708 - accuracy: 0.6156: 0s - loss: 1.0950 - accuracy: 0.60 - ETA: 0s - loss: 1.0908 - accura\n",
      "Epoch 2/20\n",
      "1875/1875 [==============================] - 3s 2ms/step - loss: 0.7408 - accuracy: 0.7401\n",
      "Epoch 3/20\n",
      "1875/1875 [==============================] - 3s 2ms/step - loss: 0.6621 - accuracy: 0.7664: \n",
      "Epoch 4/20\n",
      "1875/1875 [==============================] - 3s 1ms/step - loss: 0.6233 - accuracy: 0.7796\n",
      "Epoch 5/20\n",
      "1875/1875 [==============================] - 3s 1ms/step - loss: 0.5954 - accuracy: 0.7891\n",
      "Epoch 6/20\n",
      "1875/1875 [==============================] - 3s 1ms/step - loss: 0.5772 - accuracy: 0.7961\n",
      "Epoch 7/20\n",
      "1875/1875 [==============================] - 3s 1ms/step - loss: 0.5638 - accuracy: 0.8000\n",
      "Epoch 8/20\n",
      "1875/1875 [==============================] - 3s 1ms/step - loss: 0.5523 - accuracy: 0.8048\n",
      "Epoch 9/20\n",
      "1875/1875 [==============================] - 3s 1ms/step - loss: 0.5423 - accuracy: 0.8077\n",
      "Epoch 10/20\n",
      "1875/1875 [==============================] - 3s 1ms/step - loss: 0.5350 - accuracy: 0.8102\n",
      "Epoch 11/20\n",
      "1875/1875 [==============================] - 3s 1ms/step - loss: 0.5276 - accuracy: 0.8126\n",
      "Epoch 12/20\n",
      "1875/1875 [==============================] - 2s 1ms/step - loss: 0.5250 - accuracy: 0.8140\n",
      "Epoch 13/20\n",
      "1875/1875 [==============================] - 3s 1ms/step - loss: 0.5183 - accuracy: 0.8163\n",
      "Epoch 14/20\n",
      "1875/1875 [==============================] - 3s 2ms/step - loss: 0.5136 - accuracy: 0.8180\n",
      "Epoch 15/20\n",
      "1875/1875 [==============================] - 3s 1ms/step - loss: 0.5083 - accuracy: 0.8199\n",
      "Epoch 16/20\n",
      "1875/1875 [==============================] - 2s 1ms/step - loss: 0.5076 - accuracy: 0.8191: 0s - loss: 0.5\n",
      "Epoch 17/20\n",
      "1875/1875 [==============================] - 3s 1ms/step - loss: 0.5039 - accuracy: 0.8214\n",
      "Epoch 18/20\n",
      "1875/1875 [==============================] - 3s 1ms/step - loss: 0.4982 - accuracy: 0.8234\n",
      "Epoch 19/20\n",
      "1875/1875 [==============================] - 2s 1ms/step - loss: 0.4983 - accuracy: 0.8232\n",
      "Epoch 20/20\n",
      "1875/1875 [==============================] - 3s 1ms/step - loss: 0.4985 - accuracy: 0.8240\n",
      "313/313 [==============================] - 0s 1ms/step - loss: 0.4310 - accuracy: 0.8495\n",
      "--- Starting trial: run-8\n",
      "{'num_units': 32, 'dropout': 0.1, 'optimizer': 'adam', 'epoch': 10}\n",
      "Epoch 1/10\n",
      "1875/1875 [==============================] - 4s 2ms/step - loss: 0.6148 - accuracy: 0.7892\n",
      "Epoch 2/10\n",
      "1875/1875 [==============================] - 3s 2ms/step - loss: 0.4503 - accuracy: 0.8406\n",
      "Epoch 3/10\n",
      "1875/1875 [==============================] - 3s 2ms/step - loss: 0.4159 - accuracy: 0.8508\n",
      "Epoch 4/10\n",
      "1875/1875 [==============================] - 3s 2ms/step - loss: 0.3955 - accuracy: 0.8575\n",
      "Epoch 5/10\n",
      "1875/1875 [==============================] - 3s 2ms/step - loss: 0.3832 - accuracy: 0.8617\n",
      "Epoch 6/10\n",
      "1875/1875 [==============================] - 3s 2ms/step - loss: 0.3719 - accuracy: 0.8635: 0s - loss: 0.374\n",
      "Epoch 7/10\n",
      "1875/1875 [==============================] - 3s 2ms/step - loss: 0.3631 - accuracy: 0.8673\n",
      "Epoch 8/10\n",
      "1875/1875 [==============================] - 3s 2ms/step - loss: 0.3596 - accuracy: 0.8674\n",
      "Epoch 9/10\n",
      "1875/1875 [==============================] - 3s 2ms/step - loss: 0.3504 - accuracy: 0.8716\n",
      "Epoch 10/10\n",
      "1875/1875 [==============================] - 3s 2ms/step - loss: 0.3452 - accuracy: 0.8731: 0s - loss: 0.3454 - accu\n",
      "313/313 [==============================] - 0s 1ms/step - loss: 0.3748 - accuracy: 0.8671\n",
      "--- Starting trial: run-9\n",
      "{'num_units': 32, 'dropout': 0.1, 'optimizer': 'adam', 'epoch': 20}\n",
      "Epoch 1/20\n",
      "1875/1875 [==============================] - 3s 2ms/step - loss: 0.5965 - accuracy: 0.7921\n",
      "Epoch 2/20\n",
      "1875/1875 [==============================] - 3s 2ms/step - loss: 0.4383 - accuracy: 0.8426\n",
      "Epoch 3/20\n",
      "1875/1875 [==============================] - 4s 2ms/step - loss: 0.4034 - accuracy: 0.8534\n",
      "Epoch 4/20\n",
      "1875/1875 [==============================] - 3s 2ms/step - loss: 0.3854 - accuracy: 0.8599\n",
      "Epoch 5/20\n",
      "1875/1875 [==============================] - 3s 2ms/step - loss: 0.3684 - accuracy: 0.8654\n",
      "Epoch 6/20\n",
      "1875/1875 [==============================] - 3s 2ms/step - loss: 0.3587 - accuracy: 0.8691\n",
      "Epoch 7/20\n",
      "1875/1875 [==============================] - 3s 2ms/step - loss: 0.3471 - accuracy: 0.8735\n",
      "Epoch 8/20\n",
      "1875/1875 [==============================] - 4s 2ms/step - loss: 0.3419 - accuracy: 0.8746\n",
      "Epoch 9/20\n",
      "1875/1875 [==============================] - 3s 2ms/step - loss: 0.3353 - accuracy: 0.8774: 0s\n",
      "Epoch 10/20\n",
      " 562/1875 [=======>......................] - ETA: 3s - loss: 0.3290 - accuracy: 0.8811"
     ]
    }
   ],
   "source": [
    "session_num = 0\n",
    "\n",
    "for num_units in HP_NUM_UNITS.domain.values:\n",
    "  for dropout_rate in (HP_DROPOUT.domain.min_value, HP_DROPOUT.domain.max_value):\n",
    "    for optimizer in HP_OPTIMIZER.domain.values:\n",
    "        for epoch in (HP_EPOCH.domain.min_value,HP_EPOCH.domain.max_value):\n",
    "          hparams = {\n",
    "              HP_NUM_UNITS: num_units,\n",
    "              HP_DROPOUT: dropout_rate,\n",
    "              HP_OPTIMIZER: optimizer,\n",
    "              HP_EPOCH:epoch,\n",
    "          }\n",
    "          run_name = \"run-%d\" % session_num\n",
    "          print('--- Starting trial: %s' % run_name)\n",
    "          print({h.name: hparams[h] for h in hparams})\n",
    "          run('logs/hparam_tuning/' + run_name, hparams)\n",
    "          session_num += 1\n"
   ]
  },
  {
   "cell_type": "code",
   "execution_count": null,
   "metadata": {},
   "outputs": [],
   "source": [
    "from multiprocessing import Process\n",
    "\n",
    "\n",
    "session_num = 0\n",
    "\n",
    "for num_units in HP_NUM_UNITS.domain.values:\n",
    "  for dropout_rate in (HP_DROPOUT.domain.min_value, HP_DROPOUT.domain.max_value):\n",
    "    for optimizer in HP_OPTIMIZER.domain.values:\n",
    "        for epoch in range(HP_EPOCH.domain.min_value,HP_EPOCH.domain.max_value):\n",
    "          hparams = {\n",
    "              HP_NUM_UNITS: num_units,\n",
    "              HP_DROPOUT: dropout_rate,\n",
    "              HP_OPTIMIZER: optimizer,\n",
    "              HP_EPOCH:epoch,\n",
    "          }\n",
    "          run_name = \"run-%d\" % session_num\n",
    "          print('--- Starting trial: %s' % run_name)\n",
    "          print({h.name: hparams[h] for h in hparams})\n",
    "          run('logs/hparam_tuning/' + run_name, hparams)\n",
    "          session_num += 1\n",
    "          p = Process(target=run, args=('logs/hparam_tuning/' + run_name, hparams))\n",
    "          p.start()\n",
    "          p.join()"
   ]
  },
  {
   "cell_type": "markdown",
   "metadata": {
    "id": "qSyjWQ3mPKT9"
   },
   "source": [
    "## 4. Visualize the results in TensorBoard's HParams plugin"
   ]
  },
  {
   "cell_type": "markdown",
   "metadata": {
    "id": "5VBvplwyP8Vy"
   },
   "source": [
    "The HParams dashboard can now be opened. Start TensorBoard and click on \"HParams\" at the top."
   ]
  },
  {
   "cell_type": "code",
   "execution_count": null,
   "metadata": {
    "id": "Xf4KM-U2bbP_"
   },
   "outputs": [],
   "source": [
    "%tensorboard --logdir logs\n"
   ]
  },
  {
   "cell_type": "markdown",
   "metadata": {
    "id": "4RPGbR9EWd4o"
   },
   "source": [
    "The left pane of the dashboard provides filtering capabilities that are active across all the views in the HParams dashboard:\n",
    "\n",
    "- Filter which hyperparameters/metrics are shown in the dashboard\n",
    "- Filter which hyperparameter/metrics values are shown in the dashboard\n",
    "- Filter on run status (running, success, ...)\n",
    "- Sort by hyperparameter/metric in the table view\n",
    "- Number of session groups to show (useful for performance when there are many experiments)\n"
   ]
  },
  {
   "cell_type": "markdown",
   "metadata": {
    "id": "Z3Q5v28XaCt8"
   },
   "source": [
    "The HParams dashboard has three different views, with various useful information:\n",
    "\n",
    "* The **Table View** lists the runs, their hyperparameters, and their metrics.\n",
    "* The **Parallel Coordinates View** shows each run as a line going through an axis for each hyperparemeter and metric. Click and drag the mouse on any axis to mark a region which will highlight only the runs that pass through it. This can be useful for identifying which groups of hyperparameters are most important. The axes themselves can be re-ordered by dragging them.\n",
    "* The **Scatter Plot View** shows plots comparing each hyperparameter/metric with each metric. This can help identify correlations. Click and drag to select a region in a specific plot and highlight those sessions across the other plots. \n",
    "\n",
    "A table row, a parallel coordinates line, and a scatter plot market can be clicked to see a plot of the metrics as a function of training steps for that session (although in this tutorial only one step is used for each run)."
   ]
  },
  {
   "cell_type": "markdown",
   "metadata": {
    "id": "fh3p0DtcdOK1"
   },
   "source": [
    "To further explore the capabilities of the HParams dashboard, download a set of pregenerated logs with more experiments:"
   ]
  },
  {
   "cell_type": "markdown",
   "metadata": {
    "id": "__8xQhjqgr3D"
   },
   "source": [
    "View these logs in TensorBoard:"
   ]
  }
 ],
 "metadata": {
  "colab": {
   "collapsed_sections": [],
   "name": "hyperparameter_tuning_with_hparams.ipynb",
   "toc_visible": true
  },
  "kernelspec": {
   "display_name": "Python 3",
   "language": "python",
   "name": "python3"
  },
  "language_info": {
   "codemirror_mode": {
    "name": "ipython",
    "version": 3
   },
   "file_extension": ".py",
   "mimetype": "text/x-python",
   "name": "python",
   "nbconvert_exporter": "python",
   "pygments_lexer": "ipython3",
   "version": "3.7.9"
  }
 },
 "nbformat": 4,
 "nbformat_minor": 4
}
