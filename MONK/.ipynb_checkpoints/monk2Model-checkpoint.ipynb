{
 "cells": [
  {
   "cell_type": "code",
   "execution_count": 4,
   "metadata": {},
   "outputs": [],
   "source": [
    "#importing libraries\n",
    "import numpy as np\n",
    "import pandas as pd\n",
    "#keras\n",
    "from keras.models import Sequential\n",
    "from keras.layers import Dense\n",
    "from keras.optimizers import SGD\n",
    "import matplotlib.pyplot as plt\n",
    "\n",
    "# for combining all the hyper-parameters\n",
    "import itertools \n"
   ]
  },
  {
   "cell_type": "code",
   "execution_count": 5,
   "metadata": {},
   "outputs": [],
   "source": [
    "# Grid search for the best parameter\n",
    "g_eta = [0.1,0.2,0.3]\n",
    "g_batchSize = [10,20,25,30]\n",
    "g_hiddeLayerunit1 = [4,8,10]\n",
    "g_momentum = [0.6,0.8,0.9]\n",
    "g_afHiddenLayerunit1 = [\"relu\", \"tanh\"]\n"
   ]
  },
  {
   "cell_type": "code",
   "execution_count": 6,
   "metadata": {},
   "outputs": [],
   "source": [
    "# reading training and testing data from the csv file\n",
    "trainDf = pd.read_csv ('data/csv/monks-2Train.csv',header=None).to_numpy()\n",
    "testDf = pd.read_csv ('data/csv/monks-2Test.csv',header=None).to_numpy()\n"
   ]
  },
  {
   "cell_type": "code",
   "execution_count": 7,
   "metadata": {},
   "outputs": [],
   "source": [
    "#Preparing trainDf for training\n",
    "trainX = trainDf[:, 1:7]\n",
    "trainY = trainDf[:, 0]\n"
   ]
  },
  {
   "cell_type": "code",
   "execution_count": 8,
   "metadata": {},
   "outputs": [],
   "source": [
    "#Preparing testDf for validation\n",
    "testX = testDf[:, 1:7]\n",
    "testY = testDf[:, 0]\n"
   ]
  },
  {
   "cell_type": "code",
   "execution_count": 9,
   "metadata": {},
   "outputs": [],
   "source": [
    "# All combination of the hyper-paramers\n",
    "gridParameters=[g_eta,g_batchSize,g_hiddeLayerunit1,g_momentum,g_afHiddenLayerunit1]\n",
    "allcombination = list(itertools.product(*gridParameters))\n"
   ]
  },
  {
   "cell_type": "markdown",
   "metadata": {},
   "source": [
    "From the grid search I was able to get the best hyperparameters\n",
    "eta = 0.1\n",
    "batch size = 10\n",
    "hiddenLayer = 10\n",
    "momentum = 0.7\n",
    "hiddenLayer af = relu"
   ]
  },
  {
   "cell_type": "code",
   "execution_count": null,
   "metadata": {},
   "outputs": [],
   "source": [
    "############### HYPER PARAMETER SEARCH#################################\n",
    "\"\"\"\"\n",
    "for param in allcombination:\n",
    "    model = Sequential()\n",
    "    model.add(Dense(param[2], input_dim=6, activation=param[4]))\n",
    "    model.add(Dense(1, activation='sigmoid'))\n",
    "    sgd = SGD(lr=param[0], momentum=param[3], nesterov=False)\n",
    "    model.compile(optimizer=sgd, loss='mean_squared_error',metrics=['accuracy'])\n",
    "    history = model.fit(trainX, trainY, validation_data=(testX, testY), epochs=90, batch_size=param[1], verbose=2)\n",
    "\"\"\"    \n",
    "#########################################################################\n",
    "\n",
    "\n"
   ]
  },
  {
   "cell_type": "code",
   "execution_count": null,
   "metadata": {},
   "outputs": [],
   "source": []
  }
 ],
 "metadata": {
  "kernelspec": {
   "display_name": "Python 3",
   "language": "python",
   "name": "python3"
  },
  "language_info": {
   "codemirror_mode": {
    "name": "ipython",
    "version": 3
   },
   "file_extension": ".py",
   "mimetype": "text/x-python",
   "name": "python",
   "nbconvert_exporter": "python",
   "pygments_lexer": "ipython3",
   "version": "3.8.5"
  }
 },
 "nbformat": 4,
 "nbformat_minor": 4
}
