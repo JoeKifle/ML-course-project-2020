{
 "cells": [
  {
   "cell_type": "code",
   "execution_count": 26,
   "metadata": {},
   "outputs": [
    {
     "name": "stdout",
     "output_type": "stream",
     "text": [
      "Starting thred1\n",
      "Starting thred2\n",
      "Starting thred3Exiting Main Thread\n",
      "\n",
      "thred1: Tue Jan 12 12:32:46 2021\n",
      "thred2: Tue Jan 12 12:32:47 2021\n",
      "thred1: Tue Jan 12 12:32:47 2021\n",
      "thred3: Tue Jan 12 12:32:48 2021\n",
      "thred1: Tue Jan 12 12:32:48 2021\n",
      "thred2: Tue Jan 12 12:32:49 2021\n",
      "thred1: Tue Jan 12 12:32:49 2021\n",
      "thred1: Tue Jan 12 12:32:50 2021\n",
      "Exiting thred1\n",
      "thred2: Tue Jan 12 12:32:51 2021\n",
      "thred3: Tue Jan 12 12:32:51 2021\n",
      "thred2: Tue Jan 12 12:32:53 2021\n",
      "thred3: Tue Jan 12 12:32:54 2021\n",
      "thred2: Tue Jan 12 12:32:55 2021\n",
      "Exiting thred2\n",
      "thred3: Tue Jan 12 12:32:57 2021\n",
      "thred3: Tue Jan 12 12:33:00 2021\n",
      "Exiting thred3\n"
     ]
    }
   ],
   "source": [
    "import threading\n",
    "import time\n",
    "\n",
    "exitFlag = 0\n",
    "counter=5\n",
    "\n",
    "class myThread (threading.Thread):\n",
    "   def __init__(self, threadID):\n",
    "      threading.Thread.__init__(self)\n",
    "      self.threadID = threadID\n",
    "      self.name = \"thred\"+ str(threadID)\n",
    "      self.counter = threadID\n",
    "   def run(self):\n",
    "      print(\"Starting \" + self.name)\n",
    "      print_time(self.name, counter, self.counter)\n",
    "      print(\"Exiting \" + self.name)\n",
    "\n",
    "def print_time(threadName, counter, delay):\n",
    "   while counter:\n",
    "      if exitFlag:\n",
    "         threadName.exit()\n",
    "      time.sleep(delay)\n",
    "      print(\"%s: %s\" % (threadName, time.ctime(time.time())))\n",
    "      counter -= 1\n",
    "\n",
    "# Create new threads\n",
    "for i in range(1,4):\n",
    "    thread=myThread(i)\n",
    "    thread.start()\n",
    "\n",
    "\n",
    "print(\"Exiting Main Thread\")"
   ]
  },
  {
   "cell_type": "code",
   "execution_count": 8,
   "metadata": {},
   "outputs": [
    {
     "name": "stdout",
     "output_type": "stream",
     "text": [
      "1: Tue Jan 12 11:59:11 2021\n",
      "1: Tue Jan 12 11:59:12 2021\n",
      "1: Tue Jan 12 11:59:13 2021\n",
      "1: Tue Jan 12 11:59:14 2021\n",
      "1: Tue Jan 12 11:59:15 2021\n",
      "2: Tue Jan 12 11:59:17 2021\n",
      "2: Tue Jan 12 11:59:19 2021\n",
      "2: Tue Jan 12 11:59:21 2021\n",
      "2: Tue Jan 12 11:59:23 2021\n",
      "2: Tue Jan 12 11:59:25 2021\n"
     ]
    }
   ],
   "source": [
    "import concurrent.futures\n",
    "def print_time(threadName, counter, delay):\n",
    "   while counter:\n",
    "      if exitFlag:\n",
    "         threadName.exit()\n",
    "      time.sleep(delay)\n",
    "      print(\"%s: %s\" % (threadName, time.ctime(time.time())))\n",
    "      counter -= 1\n",
    "with concurrent.futures.ThreadPoolExecutor(max_workers=5) as executor:\n",
    "    for i in range(1,3):\n",
    "        executor.submit(print_time(i,5, i))"
   ]
  },
  {
   "cell_type": "code",
   "execution_count": 14,
   "metadata": {},
   "outputs": [
    {
     "name": "stdout",
     "output_type": "stream",
     "text": [
      "0.0\n",
      "2.3\n",
      "4.61\n",
      "6.91\n"
     ]
    }
   ],
   "source": [
    "from concurrent.futures import ThreadPoolExecutor\n",
    "from concurrent.futures import as_completed\n",
    "import numpy as np\n",
    "from time import sleep\n",
    "def log(n):\n",
    "    log_value = np.log(n)\n",
    "    sleep(1)\n",
    "    return log_value\n",
    "if __name__ == '__main__':\n",
    "    values = [1,10,100,1000] \n",
    "with ThreadPoolExecutor(max_workers = 3) as executor:thread1 = executor.map(log, values)\n",
    "for result in thread1:\n",
    "    print(np.round(result,2))"
   ]
  }
 ],
 "metadata": {
  "kernelspec": {
   "display_name": "Python 3",
   "language": "python",
   "name": "python3"
  },
  "language_info": {
   "codemirror_mode": {
    "name": "ipython",
    "version": 3
   },
   "file_extension": ".py",
   "mimetype": "text/x-python",
   "name": "python",
   "nbconvert_exporter": "python",
   "pygments_lexer": "ipython3",
   "version": "3.7.9"
  }
 },
 "nbformat": 4,
 "nbformat_minor": 4
}
